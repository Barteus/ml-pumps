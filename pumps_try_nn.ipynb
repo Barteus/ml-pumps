{
 "cells": [
  {
   "cell_type": "code",
   "execution_count": 16,
   "metadata": {
    "colab": {},
    "colab_type": "code",
    "id": "3InV4hndAihH"
   },
   "outputs": [],
   "source": [
    "import pandas as pd\n",
    "import numpy as np\n",
    "import seaborn as sns\n",
    "\n",
    "import matplotlib.pyplot as plt"
   ]
  },
  {
   "cell_type": "markdown",
   "metadata": {
    "colab_type": "text",
    "id": "eqfnk1G2F4KA"
   },
   "source": [
    "## Load data"
   ]
  },
  {
   "cell_type": "code",
   "execution_count": 17,
   "metadata": {
    "colab": {
     "base_uri": "https://localhost:8080/",
     "height": 34
    },
    "colab_type": "code",
    "id": "EQp81KZtBbhT",
    "outputId": "71e627c0-9445-41bd-b77c-d2b56974048b"
   },
   "outputs": [
    {
     "data": {
      "text/plain": [
       "(59400, 40)"
      ]
     },
     "execution_count": 17,
     "metadata": {},
     "output_type": "execute_result"
    }
   ],
   "source": [
    "TRAINING_DATA_URL = 'https://s3.amazonaws.com/drivendata/data/7/public/4910797b-ee55-40a7-8668-10efd5c1b960.csv'\n",
    "TRAINING_LABELS_URL = 'https://s3.amazonaws.com/drivendata/data/7/public/0bf8bc6e-30d0-4c50-956a-603fc693d966.csv'\n",
    "x_train = pd.read_csv(TRAINING_DATA_URL, index_col='id')\n",
    "y_train = pd.read_csv(TRAINING_LABELS_URL, index_col='id')\n",
    "df_train = x_train.merge(y_train, on='id')\n",
    "df_train.shape"
   ]
  },
  {
   "cell_type": "markdown",
   "metadata": {
    "colab_type": "text",
    "id": "Kj5fs9lnN8SO"
   },
   "source": [
    "## Remove single observation from 2002"
   ]
  },
  {
   "cell_type": "code",
   "execution_count": 18,
   "metadata": {
    "colab": {
     "base_uri": "https://localhost:8080/",
     "height": 34
    },
    "colab_type": "code",
    "id": "6Nzhw7NrN7Ip",
    "outputId": "7b0645bf-046e-410b-aedd-5abdf05a5bda"
   },
   "outputs": [
    {
     "data": {
      "text/plain": [
       "(59399, 40)"
      ]
     },
     "execution_count": 18,
     "metadata": {},
     "output_type": "execute_result"
    }
   ],
   "source": [
    "df_train = df_train.drop(14428, errors='ignore')\n",
    "df_train.shape"
   ]
  },
  {
   "cell_type": "markdown",
   "metadata": {
    "colab_type": "text",
    "id": "zNZx7E1D9Pac"
   },
   "source": [
    "## Fill missing data"
   ]
  },
  {
   "cell_type": "code",
   "execution_count": 19,
   "metadata": {
    "colab": {},
    "colab_type": "code",
    "id": "56S4VQSZ9O7p"
   },
   "outputs": [],
   "source": [
    "def fill_missing_geo(row):\n",
    "  if(row.longitude == 0):\n",
    "    result = df_train[(df_train['region']==row.region) & (df_train['longitude']!=0)].longitude.mean()\n",
    "    row.longitude= result\n",
    "  \n",
    "  if(row.latitude == -2e-8):\n",
    "    result = df_train[(df_train['region']==row.region) & (df_train['latitude']!=-2e-8)].latitude.mean()\n",
    "    row.latitude= result\n",
    "  \n",
    "  return row"
   ]
  },
  {
   "cell_type": "code",
   "execution_count": 20,
   "metadata": {
    "colab": {},
    "colab_type": "code",
    "id": "d1qzzHqE9h19"
   },
   "outputs": [],
   "source": [
    "df_train = df_train.apply(lambda x: fill_missing_geo(x), axis=1)"
   ]
  },
  {
   "cell_type": "markdown",
   "metadata": {
    "colab_type": "text",
    "id": "c5Kn82FzRx0Q"
   },
   "source": [
    "## Observation date - new features"
   ]
  },
  {
   "cell_type": "code",
   "execution_count": 21,
   "metadata": {
    "colab": {},
    "colab_type": "code",
    "id": "BYKnZwwRR5vc"
   },
   "outputs": [],
   "source": [
    "df_train['month_recorded'] = df_train['date_recorded'].map(lambda x: x.split('-')[1])\n",
    "df_train['day_recorded'] = df_train['date_recorded'].map(lambda x: x.split('-')[2])"
   ]
  },
  {
   "cell_type": "markdown",
   "metadata": {
    "colab_type": "text",
    "id": "swjYgyszx4BT"
   },
   "source": [
    "## Fill NA values\n",
    "Can be improved only if feature has high importance!"
   ]
  },
  {
   "cell_type": "code",
   "execution_count": 22,
   "metadata": {
    "colab": {},
    "colab_type": "code",
    "id": "3cISypQvx4ts"
   },
   "outputs": [],
   "source": [
    "df_train.permit = df_train.permit.fillna(False)\n",
    "df_train.scheme_management = df_train.scheme_management.fillna('Other')"
   ]
  },
  {
   "cell_type": "markdown",
   "metadata": {
    "colab_type": "text",
    "id": "9DntTe9axuAB"
   },
   "source": [
    "## Boolean columns to int 0/1"
   ]
  },
  {
   "cell_type": "code",
   "execution_count": 23,
   "metadata": {
    "colab": {},
    "colab_type": "code",
    "id": "CR6InWNBxs8i"
   },
   "outputs": [],
   "source": [
    "df_train['public_meeting'] = df_train['public_meeting'].apply(lambda x : 1 if x==True else 0)\n",
    "df_train['permit'] = df_train['permit'].apply(lambda x : 1 if x==True else 0)"
   ]
  },
  {
   "cell_type": "markdown",
   "metadata": {
    "colab_type": "text",
    "id": "zLGwc8Sy9XvI"
   },
   "source": [
    "## Others - to be redone\n",
    "- feature selection\n",
    "- feature scaling\n",
    "- feature transformation (encoding, labelling etc.)"
   ]
  },
  {
   "cell_type": "code",
   "execution_count": 24,
   "metadata": {
    "colab": {
     "base_uri": "https://localhost:8080/",
     "height": 34
    },
    "colab_type": "code",
    "id": "lt0QFUYrHqgz",
    "outputId": "1eb1b92b-a78f-41a7-b89d-9088da9e42b5"
   },
   "outputs": [
    {
     "data": {
      "text/plain": [
       "15"
      ]
     },
     "execution_count": 24,
     "metadata": {},
     "output_type": "execute_result"
    }
   ],
   "source": [
    "CONTINOUS_VALUE_COLUMNS = ['longitude', 'latitude','month_recorded','day_recorded']\n",
    "DATE_COLUMNS = []\n",
    "ORDINAL_VALUE_COLUMNS = []\n",
    "NOMINAL_VALUE_COLUMNS = [ 'basin','region', 'district_code','scheme_management', #'installer',\n",
    "                         'extraction_type_class', 'payment',  'quantity','source_class', 'waterpoint_type']\n",
    "BOOLEAN_VALUE_COLUMNS = ['permit', 'public_meeting']\n",
    "TARGET_COLUMN = 'status_group'\n",
    "\n",
    "len(CONTINOUS_VALUE_COLUMNS)+len(DATE_COLUMNS)+len(ORDINAL_VALUE_COLUMNS)+len(NOMINAL_VALUE_COLUMNS)+len(BOOLEAN_VALUE_COLUMNS)"
   ]
  },
  {
   "cell_type": "code",
   "execution_count": 25,
   "metadata": {
    "colab": {
     "base_uri": "https://localhost:8080/",
     "height": 374
    },
    "colab_type": "code",
    "id": "IUZWpwvFKYxJ",
    "outputId": "cde2b8a9-85ff-4bdf-9b6f-9b1b342cd710"
   },
   "outputs": [
    {
     "data": {
      "text/html": [
       "<div>\n",
       "<style scoped>\n",
       "    .dataframe tbody tr th:only-of-type {\n",
       "        vertical-align: middle;\n",
       "    }\n",
       "\n",
       "    .dataframe tbody tr th {\n",
       "        vertical-align: top;\n",
       "    }\n",
       "\n",
       "    .dataframe thead th {\n",
       "        text-align: right;\n",
       "    }\n",
       "</style>\n",
       "<table border=\"1\" class=\"dataframe\">\n",
       "  <thead>\n",
       "    <tr style=\"text-align: right;\">\n",
       "      <th></th>\n",
       "      <th>longitude</th>\n",
       "      <th>latitude</th>\n",
       "      <th>month_recorded</th>\n",
       "      <th>day_recorded</th>\n",
       "      <th>basin</th>\n",
       "      <th>region</th>\n",
       "      <th>district_code</th>\n",
       "      <th>scheme_management</th>\n",
       "      <th>extraction_type_class</th>\n",
       "      <th>payment</th>\n",
       "      <th>quantity</th>\n",
       "      <th>source_class</th>\n",
       "      <th>waterpoint_type</th>\n",
       "      <th>permit</th>\n",
       "      <th>public_meeting</th>\n",
       "      <th>status_group</th>\n",
       "    </tr>\n",
       "    <tr>\n",
       "      <th>id</th>\n",
       "      <th></th>\n",
       "      <th></th>\n",
       "      <th></th>\n",
       "      <th></th>\n",
       "      <th></th>\n",
       "      <th></th>\n",
       "      <th></th>\n",
       "      <th></th>\n",
       "      <th></th>\n",
       "      <th></th>\n",
       "      <th></th>\n",
       "      <th></th>\n",
       "      <th></th>\n",
       "      <th></th>\n",
       "      <th></th>\n",
       "      <th></th>\n",
       "    </tr>\n",
       "  </thead>\n",
       "  <tbody>\n",
       "    <tr>\n",
       "      <th>69572</th>\n",
       "      <td>34.938093</td>\n",
       "      <td>-9.856322</td>\n",
       "      <td>03</td>\n",
       "      <td>14</td>\n",
       "      <td>Lake Nyasa</td>\n",
       "      <td>Iringa</td>\n",
       "      <td>5</td>\n",
       "      <td>VWC</td>\n",
       "      <td>gravity</td>\n",
       "      <td>pay annually</td>\n",
       "      <td>enough</td>\n",
       "      <td>groundwater</td>\n",
       "      <td>communal standpipe</td>\n",
       "      <td>0</td>\n",
       "      <td>1</td>\n",
       "      <td>functional</td>\n",
       "    </tr>\n",
       "    <tr>\n",
       "      <th>8776</th>\n",
       "      <td>34.698766</td>\n",
       "      <td>-2.147466</td>\n",
       "      <td>03</td>\n",
       "      <td>06</td>\n",
       "      <td>Lake Victoria</td>\n",
       "      <td>Mara</td>\n",
       "      <td>2</td>\n",
       "      <td>Other</td>\n",
       "      <td>gravity</td>\n",
       "      <td>never pay</td>\n",
       "      <td>insufficient</td>\n",
       "      <td>surface</td>\n",
       "      <td>communal standpipe</td>\n",
       "      <td>1</td>\n",
       "      <td>0</td>\n",
       "      <td>functional</td>\n",
       "    </tr>\n",
       "    <tr>\n",
       "      <th>34310</th>\n",
       "      <td>37.460664</td>\n",
       "      <td>-3.821329</td>\n",
       "      <td>02</td>\n",
       "      <td>25</td>\n",
       "      <td>Pangani</td>\n",
       "      <td>Manyara</td>\n",
       "      <td>4</td>\n",
       "      <td>VWC</td>\n",
       "      <td>gravity</td>\n",
       "      <td>pay per bucket</td>\n",
       "      <td>enough</td>\n",
       "      <td>surface</td>\n",
       "      <td>communal standpipe multiple</td>\n",
       "      <td>1</td>\n",
       "      <td>1</td>\n",
       "      <td>functional</td>\n",
       "    </tr>\n",
       "    <tr>\n",
       "      <th>67743</th>\n",
       "      <td>38.486161</td>\n",
       "      <td>-11.155298</td>\n",
       "      <td>01</td>\n",
       "      <td>28</td>\n",
       "      <td>Ruvuma / Southern Coast</td>\n",
       "      <td>Mtwara</td>\n",
       "      <td>63</td>\n",
       "      <td>VWC</td>\n",
       "      <td>submersible</td>\n",
       "      <td>never pay</td>\n",
       "      <td>dry</td>\n",
       "      <td>groundwater</td>\n",
       "      <td>communal standpipe multiple</td>\n",
       "      <td>1</td>\n",
       "      <td>1</td>\n",
       "      <td>non functional</td>\n",
       "    </tr>\n",
       "    <tr>\n",
       "      <th>19728</th>\n",
       "      <td>31.130847</td>\n",
       "      <td>-1.825359</td>\n",
       "      <td>07</td>\n",
       "      <td>13</td>\n",
       "      <td>Lake Victoria</td>\n",
       "      <td>Kagera</td>\n",
       "      <td>1</td>\n",
       "      <td>Other</td>\n",
       "      <td>gravity</td>\n",
       "      <td>never pay</td>\n",
       "      <td>seasonal</td>\n",
       "      <td>surface</td>\n",
       "      <td>communal standpipe</td>\n",
       "      <td>1</td>\n",
       "      <td>1</td>\n",
       "      <td>functional</td>\n",
       "    </tr>\n",
       "  </tbody>\n",
       "</table>\n",
       "</div>"
      ],
      "text/plain": [
       "       longitude   latitude month_recorded day_recorded  \\\n",
       "id                                                        \n",
       "69572  34.938093  -9.856322             03           14   \n",
       "8776   34.698766  -2.147466             03           06   \n",
       "34310  37.460664  -3.821329             02           25   \n",
       "67743  38.486161 -11.155298             01           28   \n",
       "19728  31.130847  -1.825359             07           13   \n",
       "\n",
       "                         basin   region  district_code scheme_management  \\\n",
       "id                                                                         \n",
       "69572               Lake Nyasa   Iringa              5               VWC   \n",
       "8776             Lake Victoria     Mara              2             Other   \n",
       "34310                  Pangani  Manyara              4               VWC   \n",
       "67743  Ruvuma / Southern Coast   Mtwara             63               VWC   \n",
       "19728            Lake Victoria   Kagera              1             Other   \n",
       "\n",
       "      extraction_type_class         payment      quantity source_class  \\\n",
       "id                                                                       \n",
       "69572               gravity    pay annually        enough  groundwater   \n",
       "8776                gravity       never pay  insufficient      surface   \n",
       "34310               gravity  pay per bucket        enough      surface   \n",
       "67743           submersible       never pay           dry  groundwater   \n",
       "19728               gravity       never pay      seasonal      surface   \n",
       "\n",
       "                   waterpoint_type  permit  public_meeting    status_group  \n",
       "id                                                                          \n",
       "69572           communal standpipe       0               1      functional  \n",
       "8776            communal standpipe       1               0      functional  \n",
       "34310  communal standpipe multiple       1               1      functional  \n",
       "67743  communal standpipe multiple       1               1  non functional  \n",
       "19728           communal standpipe       1               1      functional  "
      ]
     },
     "execution_count": 25,
     "metadata": {},
     "output_type": "execute_result"
    }
   ],
   "source": [
    "filtered_df_train = df_train[CONTINOUS_VALUE_COLUMNS + DATE_COLUMNS + ORDINAL_VALUE_COLUMNS + NOMINAL_VALUE_COLUMNS+BOOLEAN_VALUE_COLUMNS+[TARGET_COLUMN]]\n",
    "filtered_df_train.head()"
   ]
  },
  {
   "cell_type": "code",
   "execution_count": 26,
   "metadata": {
    "colab": {
     "base_uri": "https://localhost:8080/",
     "height": 391
    },
    "colab_type": "code",
    "id": "iA6EEvmMNASZ",
    "outputId": "a11fe708-e2df-4f35-a90c-e42aae29d3a5"
   },
   "outputs": [
    {
     "data": {
      "text/plain": [
       "array(['x0_Internal', 'x0_Lake Nyasa', 'x0_Lake Rukwa',\n",
       "       'x0_Lake Tanganyika', 'x0_Lake Victoria', 'x0_Pangani',\n",
       "       'x0_Rufiji', 'x0_Ruvuma / Southern Coast', 'x0_Wami / Ruvu',\n",
       "       'x1_Arusha', 'x1_Dar es Salaam', 'x1_Dodoma', 'x1_Iringa',\n",
       "       'x1_Kagera', 'x1_Kigoma', 'x1_Kilimanjaro', 'x1_Lindi',\n",
       "       'x1_Manyara', 'x1_Mara', 'x1_Mbeya', 'x1_Morogoro', 'x1_Mtwara',\n",
       "       'x1_Mwanza', 'x1_Pwani', 'x1_Rukwa', 'x1_Ruvuma', 'x1_Shinyanga',\n",
       "       'x1_Singida', 'x1_Tabora', 'x1_Tanga', 'x2_0', 'x2_1', 'x2_2',\n",
       "       'x2_3', 'x2_4', 'x2_5', 'x2_6', 'x2_7', 'x2_8', 'x2_13', 'x2_23',\n",
       "       'x2_30', 'x2_33', 'x2_43', 'x2_53', 'x2_60', 'x2_62', 'x2_63',\n",
       "       'x2_67', 'x2_80', 'x3_Company', 'x3_None', 'x3_Other',\n",
       "       'x3_Parastatal', 'x3_Private operator', 'x3_SWC', 'x3_Trust',\n",
       "       'x3_VWC', 'x3_WUA', 'x3_WUG', 'x3_Water Board',\n",
       "       'x3_Water authority', 'x4_gravity', 'x4_handpump', 'x4_motorpump',\n",
       "       'x4_other', 'x4_rope pump', 'x4_submersible', 'x4_wind-powered',\n",
       "       'x5_never pay', 'x5_other', 'x5_pay annually', 'x5_pay monthly',\n",
       "       'x5_pay per bucket', 'x5_pay when scheme fails', 'x5_unknown',\n",
       "       'x6_dry', 'x6_enough', 'x6_insufficient', 'x6_seasonal',\n",
       "       'x6_unknown', 'x7_groundwater', 'x7_surface', 'x7_unknown',\n",
       "       'x8_cattle trough', 'x8_communal standpipe',\n",
       "       'x8_communal standpipe multiple', 'x8_dam', 'x8_hand pump',\n",
       "       'x8_improved spring', 'x8_other'], dtype=object)"
      ]
     },
     "execution_count": 26,
     "metadata": {},
     "output_type": "execute_result"
    }
   ],
   "source": [
    "from sklearn.preprocessing import OneHotEncoder\n",
    "encoder = OneHotEncoder(sparse=False)\n",
    "result = encoder.fit_transform(filtered_df_train[NOMINAL_VALUE_COLUMNS])\n",
    "encoder.get_feature_names()"
   ]
  },
  {
   "cell_type": "code",
   "execution_count": 27,
   "metadata": {
    "colab": {
     "base_uri": "https://localhost:8080/",
     "height": 51
    },
    "colab_type": "code",
    "id": "PMNL_xEYVM3p",
    "outputId": "1cd259bb-7c80-434c-a7d0-91b8bd5af0e9"
   },
   "outputs": [
    {
     "data": {
      "text/plain": [
       "[array(['functional', 'functional needs repair', 'non functional'],\n",
       "       dtype=object)]"
      ]
     },
     "execution_count": 27,
     "metadata": {},
     "output_type": "execute_result"
    }
   ],
   "source": [
    "from sklearn.preprocessing import OrdinalEncoder\n",
    "target_enc = OrdinalEncoder()\n",
    "target_result = target_enc.fit_transform(filtered_df_train[TARGET_COLUMN].values.reshape(-1,1))\n",
    "target_enc.categories_"
   ]
  },
  {
   "cell_type": "code",
   "execution_count": 28,
   "metadata": {
    "colab": {},
    "colab_type": "code",
    "id": "Yg8uLuxXZFVw"
   },
   "outputs": [],
   "source": [
    "from sklearn.preprocessing import PowerTransformer\n",
    "p_trans = PowerTransformer()\n",
    "continous_values_transformed = p_trans.fit_transform(filtered_df_train[CONTINOUS_VALUE_COLUMNS])"
   ]
  },
  {
   "cell_type": "code",
   "execution_count": 29,
   "metadata": {
    "colab": {
     "base_uri": "https://localhost:8080/",
     "height": 304
    },
    "colab_type": "code",
    "id": "I_73WunFUs_d",
    "outputId": "b1badd69-4cc9-4c2f-8fce-c74c8b5d82a7"
   },
   "outputs": [
    {
     "data": {
      "text/html": [
       "<div>\n",
       "<style scoped>\n",
       "    .dataframe tbody tr th:only-of-type {\n",
       "        vertical-align: middle;\n",
       "    }\n",
       "\n",
       "    .dataframe tbody tr th {\n",
       "        vertical-align: top;\n",
       "    }\n",
       "\n",
       "    .dataframe thead th {\n",
       "        text-align: right;\n",
       "    }\n",
       "</style>\n",
       "<table border=\"1\" class=\"dataframe\">\n",
       "  <thead>\n",
       "    <tr style=\"text-align: right;\">\n",
       "      <th></th>\n",
       "      <th>longitude</th>\n",
       "      <th>latitude</th>\n",
       "      <th>month_recorded</th>\n",
       "      <th>day_recorded</th>\n",
       "      <th>permit</th>\n",
       "      <th>public_meeting</th>\n",
       "      <th>x0_Internal</th>\n",
       "      <th>x0_Lake Nyasa</th>\n",
       "      <th>x0_Lake Rukwa</th>\n",
       "      <th>x0_Lake Tanganyika</th>\n",
       "      <th>...</th>\n",
       "      <th>x7_surface</th>\n",
       "      <th>x7_unknown</th>\n",
       "      <th>x8_cattle trough</th>\n",
       "      <th>x8_communal standpipe</th>\n",
       "      <th>x8_communal standpipe multiple</th>\n",
       "      <th>x8_dam</th>\n",
       "      <th>x8_hand pump</th>\n",
       "      <th>x8_improved spring</th>\n",
       "      <th>x8_other</th>\n",
       "      <th>target</th>\n",
       "    </tr>\n",
       "  </thead>\n",
       "  <tbody>\n",
       "    <tr>\n",
       "      <th>0</th>\n",
       "      <td>-0.072579</td>\n",
       "      <td>-1.333935</td>\n",
       "      <td>-0.203651</td>\n",
       "      <td>-0.113275</td>\n",
       "      <td>0.0</td>\n",
       "      <td>1.0</td>\n",
       "      <td>0.0</td>\n",
       "      <td>1.0</td>\n",
       "      <td>0.0</td>\n",
       "      <td>0.0</td>\n",
       "      <td>...</td>\n",
       "      <td>0.0</td>\n",
       "      <td>0.0</td>\n",
       "      <td>0.0</td>\n",
       "      <td>1.0</td>\n",
       "      <td>0.0</td>\n",
       "      <td>0.0</td>\n",
       "      <td>0.0</td>\n",
       "      <td>0.0</td>\n",
       "      <td>0.0</td>\n",
       "      <td>0.0</td>\n",
       "    </tr>\n",
       "    <tr>\n",
       "      <th>1</th>\n",
       "      <td>-0.164850</td>\n",
       "      <td>1.467179</td>\n",
       "      <td>-0.203651</td>\n",
       "      <td>-1.095515</td>\n",
       "      <td>1.0</td>\n",
       "      <td>0.0</td>\n",
       "      <td>0.0</td>\n",
       "      <td>0.0</td>\n",
       "      <td>0.0</td>\n",
       "      <td>0.0</td>\n",
       "      <td>...</td>\n",
       "      <td>1.0</td>\n",
       "      <td>0.0</td>\n",
       "      <td>0.0</td>\n",
       "      <td>1.0</td>\n",
       "      <td>0.0</td>\n",
       "      <td>0.0</td>\n",
       "      <td>0.0</td>\n",
       "      <td>0.0</td>\n",
       "      <td>0.0</td>\n",
       "      <td>0.0</td>\n",
       "    </tr>\n",
       "    <tr>\n",
       "      <th>2</th>\n",
       "      <td>0.914459</td>\n",
       "      <td>0.624939</td>\n",
       "      <td>-0.800019</td>\n",
       "      <td>1.052948</td>\n",
       "      <td>1.0</td>\n",
       "      <td>1.0</td>\n",
       "      <td>0.0</td>\n",
       "      <td>0.0</td>\n",
       "      <td>0.0</td>\n",
       "      <td>0.0</td>\n",
       "      <td>...</td>\n",
       "      <td>1.0</td>\n",
       "      <td>0.0</td>\n",
       "      <td>0.0</td>\n",
       "      <td>0.0</td>\n",
       "      <td>1.0</td>\n",
       "      <td>0.0</td>\n",
       "      <td>0.0</td>\n",
       "      <td>0.0</td>\n",
       "      <td>0.0</td>\n",
       "      <td>0.0</td>\n",
       "    </tr>\n",
       "    <tr>\n",
       "      <th>3</th>\n",
       "      <td>1.323128</td>\n",
       "      <td>-1.649368</td>\n",
       "      <td>-1.737012</td>\n",
       "      <td>1.349163</td>\n",
       "      <td>1.0</td>\n",
       "      <td>1.0</td>\n",
       "      <td>0.0</td>\n",
       "      <td>0.0</td>\n",
       "      <td>0.0</td>\n",
       "      <td>0.0</td>\n",
       "      <td>...</td>\n",
       "      <td>0.0</td>\n",
       "      <td>0.0</td>\n",
       "      <td>0.0</td>\n",
       "      <td>0.0</td>\n",
       "      <td>1.0</td>\n",
       "      <td>0.0</td>\n",
       "      <td>0.0</td>\n",
       "      <td>0.0</td>\n",
       "      <td>0.0</td>\n",
       "      <td>2.0</td>\n",
       "    </tr>\n",
       "    <tr>\n",
       "      <th>4</th>\n",
       "      <td>-1.511151</td>\n",
       "      <td>1.662763</td>\n",
       "      <td>1.031072</td>\n",
       "      <td>-0.227724</td>\n",
       "      <td>1.0</td>\n",
       "      <td>1.0</td>\n",
       "      <td>0.0</td>\n",
       "      <td>0.0</td>\n",
       "      <td>0.0</td>\n",
       "      <td>0.0</td>\n",
       "      <td>...</td>\n",
       "      <td>1.0</td>\n",
       "      <td>0.0</td>\n",
       "      <td>0.0</td>\n",
       "      <td>1.0</td>\n",
       "      <td>0.0</td>\n",
       "      <td>0.0</td>\n",
       "      <td>0.0</td>\n",
       "      <td>0.0</td>\n",
       "      <td>0.0</td>\n",
       "      <td>0.0</td>\n",
       "    </tr>\n",
       "  </tbody>\n",
       "</table>\n",
       "<p>5 rows × 98 columns</p>\n",
       "</div>"
      ],
      "text/plain": [
       "   longitude  latitude  month_recorded  day_recorded  permit  public_meeting  \\\n",
       "0  -0.072579 -1.333935       -0.203651     -0.113275     0.0             1.0   \n",
       "1  -0.164850  1.467179       -0.203651     -1.095515     1.0             0.0   \n",
       "2   0.914459  0.624939       -0.800019      1.052948     1.0             1.0   \n",
       "3   1.323128 -1.649368       -1.737012      1.349163     1.0             1.0   \n",
       "4  -1.511151  1.662763        1.031072     -0.227724     1.0             1.0   \n",
       "\n",
       "   x0_Internal  x0_Lake Nyasa  x0_Lake Rukwa  x0_Lake Tanganyika   ...    \\\n",
       "0          0.0            1.0            0.0                 0.0   ...     \n",
       "1          0.0            0.0            0.0                 0.0   ...     \n",
       "2          0.0            0.0            0.0                 0.0   ...     \n",
       "3          0.0            0.0            0.0                 0.0   ...     \n",
       "4          0.0            0.0            0.0                 0.0   ...     \n",
       "\n",
       "   x7_surface  x7_unknown  x8_cattle trough  x8_communal standpipe  \\\n",
       "0         0.0         0.0               0.0                    1.0   \n",
       "1         1.0         0.0               0.0                    1.0   \n",
       "2         1.0         0.0               0.0                    0.0   \n",
       "3         0.0         0.0               0.0                    0.0   \n",
       "4         1.0         0.0               0.0                    1.0   \n",
       "\n",
       "   x8_communal standpipe multiple  x8_dam  x8_hand pump  x8_improved spring  \\\n",
       "0                             0.0     0.0           0.0                 0.0   \n",
       "1                             0.0     0.0           0.0                 0.0   \n",
       "2                             1.0     0.0           0.0                 0.0   \n",
       "3                             1.0     0.0           0.0                 0.0   \n",
       "4                             0.0     0.0           0.0                 0.0   \n",
       "\n",
       "   x8_other  target  \n",
       "0       0.0     0.0  \n",
       "1       0.0     0.0  \n",
       "2       0.0     0.0  \n",
       "3       0.0     2.0  \n",
       "4       0.0     0.0  \n",
       "\n",
       "[5 rows x 98 columns]"
      ]
     },
     "execution_count": 29,
     "metadata": {},
     "output_type": "execute_result"
    }
   ],
   "source": [
    "output_cols = CONTINOUS_VALUE_COLUMNS.copy()\n",
    "output_cols.extend(BOOLEAN_VALUE_COLUMNS.copy())\n",
    "output_cols.extend(encoder.get_feature_names())\n",
    "output_cols.append('target')\n",
    "output_data = np.copy(result)\n",
    "output_data = np.concatenate((continous_values_transformed, filtered_df_train[BOOLEAN_VALUE_COLUMNS], result, target_result),axis =1)\n",
    "output_cols\n",
    "df_output = pd.DataFrame(output_data, columns=output_cols)\n",
    "df_output.head()"
   ]
  },
  {
   "cell_type": "markdown",
   "metadata": {
    "colab_type": "text",
    "id": "3LS4oZmch8s3"
   },
   "source": [
    "## Oversample"
   ]
  },
  {
   "cell_type": "code",
   "execution_count": 30,
   "metadata": {
    "colab": {
     "base_uri": "https://localhost:8080/",
     "height": 283
    },
    "colab_type": "code",
    "id": "wrv2gdc0h4zn",
    "outputId": "49c14760-8ff4-47ab-90b7-67f06090d392"
   },
   "outputs": [
    {
     "data": {
      "image/png": "[encoded data removed]",
      "text/plain": [
       "<Figure size 432x288 with 1 Axes>"
      ]
     },
     "metadata": {
      "needs_background": "light"
     },
     "output_type": "display_data"
    }
   ],
   "source": [
    "from imblearn.over_sampling import SMOTE\n",
    "over_sampling = SMOTE(random_state=42, k_neighbors=5)\n",
    "x_over_sampled, y_over_sampled = over_sampling.fit_resample(df_output.drop('target', axis=1), df_output.target)\n",
    "sns.countplot(x='status_group', data=pd.DataFrame(y_over_sampled, columns=['status_group']));"
   ]
  },
  {
   "cell_type": "code",
   "execution_count": 31,
   "metadata": {
    "colab": {},
    "colab_type": "code",
    "id": "7M9CfJdxiMqP"
   },
   "outputs": [],
   "source": [
    "df_oversampled = pd.DataFrame(np.column_stack((x_over_sampled, y_over_sampled)), columns=df_output.columns)"
   ]
  },
  {
   "cell_type": "markdown",
   "metadata": {
    "colab_type": "text",
    "id": "5OIwQKXPbKLr"
   },
   "source": [
    "## NN"
   ]
  },
  {
   "cell_type": "code",
   "execution_count": 32,
   "metadata": {
    "colab": {},
    "colab_type": "code",
    "id": "8YbAwkeBarPh"
   },
   "outputs": [],
   "source": [
    "x = df_oversampled.drop('target', axis=1)\n",
    "y = df_oversampled.target"
   ]
  },
  {
   "cell_type": "code",
   "execution_count": 33,
   "metadata": {
    "colab": {},
    "colab_type": "code",
    "id": "2U7VzK2LdqSI"
   },
   "outputs": [],
   "source": [
    "from sklearn.model_selection import train_test_split\n",
    "x_train, x_test, y_train, y_test = train_test_split(x, y, test_size = 0.2, random_state = 0)"
   ]
  },
  {
   "cell_type": "code",
   "execution_count": 34,
   "metadata": {
    "colab": {
     "base_uri": "https://localhost:8080/",
     "height": 51
    },
    "colab_type": "code",
    "id": "cf1znPNL3GXc",
    "outputId": "41df6dac-139d-4ca0-8bb1-c9da080d6963"
   },
   "outputs": [
    {
     "name": "stdout",
     "output_type": "stream",
     "text": [
      "tensorflow 1.13.1\n",
      "keras 2.2.4-tf\n"
     ]
    }
   ],
   "source": [
    "import tensorflow.keras as keras\n",
    "import tensorflow as tf\n",
    "\n",
    "print('tensorflow', tf.__version__)\n",
    "print('keras', keras.__version__)"
   ]
  },
  {
   "cell_type": "code",
   "execution_count": 35,
   "metadata": {
    "colab": {},
    "colab_type": "code",
    "id": "CeVrRzmbcVZ2"
   },
   "outputs": [],
   "source": [
    "model = tf.keras.models.Sequential()\n",
    "model.add(tf.keras.layers.Dense(96774, activation=tf.nn.relu))\n",
    "model.add(tf.keras.layers.Dense(1000, activation=tf.nn.relu))\n",
    "model.add(tf.keras.layers.Dense(3, activation=tf.nn.softmax))"
   ]
  },
  {
   "cell_type": "code",
   "execution_count": 36,
   "metadata": {
    "colab": {
     "base_uri": "https://localhost:8080/",
     "height": 198
    },
    "colab_type": "code",
    "id": "EU1YKf_Bd7wA",
    "outputId": "b2f1eb35-b89c-49be-8b29-c79e8f08623e"
   },
   "outputs": [
    {
     "name": "stdout",
     "output_type": "stream",
     "text": [
      "WARNING:tensorflow:From /home/bponiecki/anaconda3/lib/python3.7/site-packages/tensorflow/python/ops/resource_variable_ops.py:435: colocate_with (from tensorflow.python.framework.ops) is deprecated and will be removed in a future version.\n",
      "Instructions for updating:\n",
      "Colocations handled automatically by placer.\n"
     ]
    }
   ],
   "source": [
    "model.compile(optimizer='adam',\n",
    "              loss='sparse_categorical_crossentropy',\n",
    "              metrics=['accuracy'])"
   ]
  },
  {
   "cell_type": "code",
   "execution_count": 38,
   "metadata": {
    "colab": {
     "base_uri": "https://localhost:8080/",
     "height": 374
    },
    "colab_type": "code",
    "id": "_Dfi6g2SeAy9",
    "outputId": "24bfa999-9034-4d02-f5c2-f41ac5d77ef9"
   },
   "outputs": [
    {
     "name": "stdout",
     "output_type": "stream",
     "text": [
      "Train on 77419 samples, validate on 19355 samples\n",
      "Epoch 1/5\n",
      "77419/77419 [==============================] - 99s 1ms/sample - loss: 0.5625 - acc: 0.7543 - val_loss: 0.5840 - val_acc: 0.7543\n",
      "Epoch 2/5\n",
      "77419/77419 [==============================] - 99s 1ms/sample - loss: 0.5373 - acc: 0.7667 - val_loss: 0.5613 - val_acc: 0.7564\n",
      "Epoch 3/5\n",
      "77419/77419 [==============================] - 99s 1ms/sample - loss: 0.5197 - acc: 0.7746 - val_loss: 0.5514 - val_acc: 0.7600\n",
      "Epoch 4/5\n",
      "77419/77419 [==============================] - 99s 1ms/sample - loss: 0.5047 - acc: 0.7809 - val_loss: 0.5484 - val_acc: 0.7672\n",
      "Epoch 5/5\n",
      "77419/77419 [==============================] - 99s 1ms/sample - loss: 0.4923 - acc: 0.7871 - val_loss: 0.5398 - val_acc: 0.7706\n"
     ]
    },
    {
     "data": {
      "text/plain": [
       "<tensorflow.python.keras.callbacks.History at 0x7f59be908e80>"
      ]
     },
     "execution_count": 38,
     "metadata": {},
     "output_type": "execute_result"
    }
   ],
   "source": [
    "model.fit(x_train.values, y_train.values, epochs=5, validation_data=(x_test.values, y_test.values))"
   ]
  },
  {
   "cell_type": "code",
   "execution_count": 39,
   "metadata": {
    "colab": {},
    "colab_type": "code",
    "id": "VbNg4glri0RI"
   },
   "outputs": [
    {
     "ename": "NameError",
     "evalue": "name 'history' is not defined",
     "output_type": "error",
     "traceback": [
      "\u001b[0;31m---------------------------------------------------------------------------\u001b[0m",
      "\u001b[0;31mNameError\u001b[0m                                 Traceback (most recent call last)",
      "\u001b[0;32m<ipython-input-39-1c6ea0624647>\u001b[0m in \u001b[0;36m<module>\u001b[0;34m\u001b[0m\n\u001b[0;32m----> 1\u001b[0;31m \u001b[0mplt\u001b[0m\u001b[0;34m.\u001b[0m\u001b[0mplot\u001b[0m\u001b[0;34m(\u001b[0m\u001b[0mhistory\u001b[0m\u001b[0;34m.\u001b[0m\u001b[0mhistory\u001b[0m\u001b[0;34m[\u001b[0m\u001b[0;34m'acc'\u001b[0m\u001b[0;34m]\u001b[0m\u001b[0;34m)\u001b[0m\u001b[0;34m\u001b[0m\u001b[0;34m\u001b[0m\u001b[0m\n\u001b[0m\u001b[1;32m      2\u001b[0m \u001b[0mplt\u001b[0m\u001b[0;34m.\u001b[0m\u001b[0mplot\u001b[0m\u001b[0;34m(\u001b[0m\u001b[0mhistory\u001b[0m\u001b[0;34m.\u001b[0m\u001b[0mhistory\u001b[0m\u001b[0;34m[\u001b[0m\u001b[0;34m'val_acc'\u001b[0m\u001b[0;34m]\u001b[0m\u001b[0;34m)\u001b[0m\u001b[0;34m\u001b[0m\u001b[0;34m\u001b[0m\u001b[0m\n\u001b[1;32m      3\u001b[0m \u001b[0mplt\u001b[0m\u001b[0;34m.\u001b[0m\u001b[0mtitle\u001b[0m\u001b[0;34m(\u001b[0m\u001b[0;34m'model accuracy'\u001b[0m\u001b[0;34m)\u001b[0m\u001b[0;34m\u001b[0m\u001b[0;34m\u001b[0m\u001b[0m\n\u001b[1;32m      4\u001b[0m \u001b[0mplt\u001b[0m\u001b[0;34m.\u001b[0m\u001b[0mylabel\u001b[0m\u001b[0;34m(\u001b[0m\u001b[0;34m'accuracy'\u001b[0m\u001b[0;34m)\u001b[0m\u001b[0;34m\u001b[0m\u001b[0;34m\u001b[0m\u001b[0m\n\u001b[1;32m      5\u001b[0m \u001b[0mplt\u001b[0m\u001b[0;34m.\u001b[0m\u001b[0mxlabel\u001b[0m\u001b[0;34m(\u001b[0m\u001b[0;34m'epoch'\u001b[0m\u001b[0;34m)\u001b[0m\u001b[0;34m\u001b[0m\u001b[0;34m\u001b[0m\u001b[0m\n",
      "\u001b[0;31mNameError\u001b[0m: name 'history' is not defined"
     ]
    }
   ],
   "source": [
    "plt.plot(history.history['acc'])\n",
    "plt.plot(history.history['val_acc'])\n",
    "plt.title('model accuracy')\n",
    "plt.ylabel('accuracy')\n",
    "plt.xlabel('epoch')\n",
    "plt.legend(['train', 'test'], loc='upper left')\n",
    "plt.show()"
   ]
  },
  {
   "cell_type": "code",
   "execution_count": 40,
   "metadata": {},
   "outputs": [
    {
     "ename": "NameError",
     "evalue": "name 'history' is not defined",
     "output_type": "error",
     "traceback": [
      "\u001b[0;31m---------------------------------------------------------------------------\u001b[0m",
      "\u001b[0;31mNameError\u001b[0m                                 Traceback (most recent call last)",
      "\u001b[0;32m<ipython-input-40-7d9a4bf4eba4>\u001b[0m in \u001b[0;36m<module>\u001b[0;34m\u001b[0m\n\u001b[0;32m----> 1\u001b[0;31m \u001b[0mplt\u001b[0m\u001b[0;34m.\u001b[0m\u001b[0mplot\u001b[0m\u001b[0;34m(\u001b[0m\u001b[0mhistory\u001b[0m\u001b[0;34m.\u001b[0m\u001b[0mhistory\u001b[0m\u001b[0;34m[\u001b[0m\u001b[0;34m'loss'\u001b[0m\u001b[0;34m]\u001b[0m\u001b[0;34m)\u001b[0m\u001b[0;34m\u001b[0m\u001b[0;34m\u001b[0m\u001b[0m\n\u001b[0m\u001b[1;32m      2\u001b[0m \u001b[0mplt\u001b[0m\u001b[0;34m.\u001b[0m\u001b[0mplot\u001b[0m\u001b[0;34m(\u001b[0m\u001b[0mhistory\u001b[0m\u001b[0;34m.\u001b[0m\u001b[0mhistory\u001b[0m\u001b[0;34m[\u001b[0m\u001b[0;34m'val_loss'\u001b[0m\u001b[0;34m]\u001b[0m\u001b[0;34m)\u001b[0m\u001b[0;34m\u001b[0m\u001b[0;34m\u001b[0m\u001b[0m\n\u001b[1;32m      3\u001b[0m \u001b[0mplt\u001b[0m\u001b[0;34m.\u001b[0m\u001b[0mtitle\u001b[0m\u001b[0;34m(\u001b[0m\u001b[0;34m'model loss'\u001b[0m\u001b[0;34m)\u001b[0m\u001b[0;34m\u001b[0m\u001b[0;34m\u001b[0m\u001b[0m\n\u001b[1;32m      4\u001b[0m \u001b[0mplt\u001b[0m\u001b[0;34m.\u001b[0m\u001b[0mylabel\u001b[0m\u001b[0;34m(\u001b[0m\u001b[0;34m'loss'\u001b[0m\u001b[0;34m)\u001b[0m\u001b[0;34m\u001b[0m\u001b[0;34m\u001b[0m\u001b[0m\n\u001b[1;32m      5\u001b[0m \u001b[0mplt\u001b[0m\u001b[0;34m.\u001b[0m\u001b[0mxlabel\u001b[0m\u001b[0;34m(\u001b[0m\u001b[0;34m'epoch'\u001b[0m\u001b[0;34m)\u001b[0m\u001b[0;34m\u001b[0m\u001b[0;34m\u001b[0m\u001b[0m\n",
      "\u001b[0;31mNameError\u001b[0m: name 'history' is not defined"
     ]
    }
   ],
   "source": [
    "plt.plot(history.history['loss'])\n",
    "plt.plot(history.history['val_loss'])\n",
    "plt.title('model loss')\n",
    "plt.ylabel('loss')\n",
    "plt.xlabel('epoch')\n",
    "plt.legend(['train', 'test'], loc='upper left')\n",
    "plt.show()"
   ]
  },
  {
   "cell_type": "code",
   "execution_count": null,
   "metadata": {},
   "outputs": [],
   "source": []
  }
 ],
 "metadata": {
  "accelerator": "GPU",
  "colab": {
   "collapsed_sections": [],
   "machine_shape": "hm",
   "name": "pumps-try-nn.ipynb",
   "provenance": []
  },
  "kernelspec": {
   "display_name": "Python 3",
   "language": "python",
   "name": "python3"
  },
  "language_info": {
   "codemirror_mode": {
    "name": "ipython",
    "version": 3
   },
   "file_extension": ".py",
   "mimetype": "text/x-python",
   "name": "python",
   "nbconvert_exporter": "python",
   "pygments_lexer": "ipython3",
   "version": "3.7.1"
  }
 },
 "nbformat": 4,
 "nbformat_minor": 1
}
