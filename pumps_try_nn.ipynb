{
  "nbformat": 4,
  "nbformat_minor": 0,
  "metadata": {
    "colab": {
      "name": "pumps-try-nn.ipynb",
      "provenance": [],
      "collapsed_sections": [],
      "machine_shape": "hm"
    },
    "kernelspec": {
      "name": "python3",
      "display_name": "Python 3"
    },
    "accelerator": "GPU"
  },
  "cells": [
    {
      "cell_type": "code",
      "metadata": {
        "id": "3InV4hndAihH",
        "colab_type": "code",
        "colab": {}
      },
      "source": [
        "import pandas as pd\n",
        "import numpy as np\n",
        "import seaborn as sns\n",
        "\n",
        "import matplotlib.pyplot as plt"
      ],
      "execution_count": 0,
      "outputs": []
    },
    {
      "cell_type": "markdown",
      "metadata": {
        "id": "eqfnk1G2F4KA",
        "colab_type": "text"
      },
      "source": [
        "## Load data"
      ]
    },
    {
      "cell_type": "code",
      "metadata": {
        "id": "EQp81KZtBbhT",
        "colab_type": "code",
        "outputId": "71e627c0-9445-41bd-b77c-d2b56974048b",
        "colab": {
          "base_uri": "https://localhost:8080/",
          "height": 34
        }
      },
      "source": [
        "TRAINING_DATA_URL = 'https://s3.amazonaws.com/drivendata/data/7/public/4910797b-ee55-40a7-8668-10efd5c1b960.csv'\n",
        "TRAINING_LABELS_URL = 'https://s3.amazonaws.com/drivendata/data/7/public/0bf8bc6e-30d0-4c50-956a-603fc693d966.csv'\n",
        "x_train = pd.read_csv(TRAINING_DATA_URL, index_col='id')\n",
        "y_train = pd.read_csv(TRAINING_LABELS_URL, index_col='id')\n",
        "df_train = x_train.merge(y_train, on='id')\n",
        "df_train.shape"
      ],
      "execution_count": 0,
      "outputs": [
        {
          "output_type": "execute_result",
          "data": {
            "text/plain": [
              "(59400, 40)"
            ]
          },
          "metadata": {
            "tags": []
          },
          "execution_count": 27
        }
      ]
    },
    {
      "cell_type": "markdown",
      "metadata": {
        "id": "Kj5fs9lnN8SO",
        "colab_type": "text"
      },
      "source": [
        "## Remove single observation from 2002"
      ]
    },
    {
      "cell_type": "code",
      "metadata": {
        "id": "6Nzhw7NrN7Ip",
        "colab_type": "code",
        "outputId": "7b0645bf-046e-410b-aedd-5abdf05a5bda",
        "colab": {
          "base_uri": "https://localhost:8080/",
          "height": 34
        }
      },
      "source": [
        "df_train = df_train.drop(14428, errors='ignore')\n",
        "df_train.shape"
      ],
      "execution_count": 0,
      "outputs": [
        {
          "output_type": "execute_result",
          "data": {
            "text/plain": [
              "(59399, 40)"
            ]
          },
          "metadata": {
            "tags": []
          },
          "execution_count": 28
        }
      ]
    },
    {
      "cell_type": "markdown",
      "metadata": {
        "id": "zNZx7E1D9Pac",
        "colab_type": "text"
      },
      "source": [
        "## Fill missing data"
      ]
    },
    {
      "cell_type": "code",
      "metadata": {
        "id": "56S4VQSZ9O7p",
        "colab_type": "code",
        "colab": {}
      },
      "source": [
        "def fill_missing_geo(row):\n",
        "  if(row.longitude == 0):\n",
        "    result = df_train[(df_train['region']==row.region) & (df_train['longitude']!=0)].longitude.mean()\n",
        "    row.longitude= result\n",
        "  \n",
        "  if(row.latitude == -2e-8):\n",
        "    result = df_train[(df_train['region']==row.region) & (df_train['latitude']!=-2e-8)].latitude.mean()\n",
        "    row.latitude= result\n",
        "  \n",
        "  return row"
      ],
      "execution_count": 0,
      "outputs": []
    },
    {
      "cell_type": "code",
      "metadata": {
        "id": "d1qzzHqE9h19",
        "colab_type": "code",
        "colab": {}
      },
      "source": [
        "df_train = df_train.apply(lambda x: fill_missing_geo(x), axis=1)"
      ],
      "execution_count": 0,
      "outputs": []
    },
    {
      "cell_type": "markdown",
      "metadata": {
        "id": "c5Kn82FzRx0Q",
        "colab_type": "text"
      },
      "source": [
        "## Observation date - new features"
      ]
    },
    {
      "cell_type": "code",
      "metadata": {
        "id": "BYKnZwwRR5vc",
        "colab_type": "code",
        "colab": {}
      },
      "source": [
        "df_train['month_recorded'] = df_train['date_recorded'].map(lambda x: x.split('-')[1])\n",
        "df_train['day_recorded'] = df_train['date_recorded'].map(lambda x: x.split('-')[2])"
      ],
      "execution_count": 0,
      "outputs": []
    },
    {
      "cell_type": "markdown",
      "metadata": {
        "id": "swjYgyszx4BT",
        "colab_type": "text"
      },
      "source": [
        "## Fill NA values\n",
        "Can be improved only if feature has high importance!"
      ]
    },
    {
      "cell_type": "code",
      "metadata": {
        "id": "3cISypQvx4ts",
        "colab_type": "code",
        "colab": {}
      },
      "source": [
        "df_train.permit = df_train.permit.fillna(False)\n",
        "df_train.scheme_management = df_train.scheme_management.fillna('Other')"
      ],
      "execution_count": 0,
      "outputs": []
    },
    {
      "cell_type": "markdown",
      "metadata": {
        "id": "9DntTe9axuAB",
        "colab_type": "text"
      },
      "source": [
        "## Boolean columns to int 0/1"
      ]
    },
    {
      "cell_type": "code",
      "metadata": {
        "id": "CR6InWNBxs8i",
        "colab_type": "code",
        "colab": {}
      },
      "source": [
        "df_train['public_meeting'] = df_train['public_meeting'].apply(lambda x : 1 if x==True else 0)\n",
        "df_train['permit'] = df_train['permit'].apply(lambda x : 1 if x==True else 0)"
      ],
      "execution_count": 0,
      "outputs": []
    },
    {
      "cell_type": "markdown",
      "metadata": {
        "id": "zLGwc8Sy9XvI",
        "colab_type": "text"
      },
      "source": [
        "## Others - to be redone\n",
        "- feature selection\n",
        "- feature scaling\n",
        "- feature transformation (encoding, labelling etc.)"
      ]
    },
    {
      "cell_type": "code",
      "metadata": {
        "id": "lt0QFUYrHqgz",
        "colab_type": "code",
        "outputId": "1eb1b92b-a78f-41a7-b89d-9088da9e42b5",
        "colab": {
          "base_uri": "https://localhost:8080/",
          "height": 34
        }
      },
      "source": [
        "CONTINOUS_VALUE_COLUMNS = ['longitude', 'latitude','month_recorded','day_recorded']\n",
        "DATE_COLUMNS = []\n",
        "ORDINAL_VALUE_COLUMNS = []\n",
        "NOMINAL_VALUE_COLUMNS = [ 'basin','region', 'district_code','scheme_management', #'installer',\n",
        "                         'extraction_type_class', 'payment',  'quantity','source_class', 'waterpoint_type']\n",
        "BOOLEAN_VALUE_COLUMNS = ['permit', 'public_meeting']\n",
        "TARGET_COLUMN = 'status_group'\n",
        "\n",
        "len(CONTINOUS_VALUE_COLUMNS)+len(DATE_COLUMNS)+len(ORDINAL_VALUE_COLUMNS)+len(NOMINAL_VALUE_COLUMNS)+len(BOOLEAN_VALUE_COLUMNS)"
      ],
      "execution_count": 0,
      "outputs": [
        {
          "output_type": "execute_result",
          "data": {
            "text/plain": [
              "15"
            ]
          },
          "metadata": {
            "tags": []
          },
          "execution_count": 34
        }
      ]
    },
    {
      "cell_type": "code",
      "metadata": {
        "id": "IUZWpwvFKYxJ",
        "colab_type": "code",
        "outputId": "cde2b8a9-85ff-4bdf-9b6f-9b1b342cd710",
        "colab": {
          "base_uri": "https://localhost:8080/",
          "height": 374
        }
      },
      "source": [
        "filtered_df_train = df_train[CONTINOUS_VALUE_COLUMNS + DATE_COLUMNS + ORDINAL_VALUE_COLUMNS + NOMINAL_VALUE_COLUMNS+BOOLEAN_VALUE_COLUMNS+[TARGET_COLUMN]]\n",
        "filtered_df_train.head()"
      ],
      "execution_count": 0,
      "outputs": [
        {
          "output_type": "execute_result",
          "data": {
            "text/html": [
              "<div>\n",
              "<style scoped>\n",
              "    .dataframe tbody tr th:only-of-type {\n",
              "        vertical-align: middle;\n",
              "    }\n",
              "\n",
              "    .dataframe tbody tr th {\n",
              "        vertical-align: top;\n",
              "    }\n",
              "\n",
              "    .dataframe thead th {\n",
              "        text-align: right;\n",
              "    }\n",
              "</style>\n",
              "<table border=\"1\" class=\"dataframe\">\n",
              "  <thead>\n",
              "    <tr style=\"text-align: right;\">\n",
              "      <th></th>\n",
              "      <th>longitude</th>\n",
              "      <th>latitude</th>\n",
              "      <th>month_recorded</th>\n",
              "      <th>day_recorded</th>\n",
              "      <th>basin</th>\n",
              "      <th>region</th>\n",
              "      <th>district_code</th>\n",
              "      <th>scheme_management</th>\n",
              "      <th>extraction_type_class</th>\n",
              "      <th>payment</th>\n",
              "      <th>quantity</th>\n",
              "      <th>source_class</th>\n",
              "      <th>waterpoint_type</th>\n",
              "      <th>permit</th>\n",
              "      <th>public_meeting</th>\n",
              "      <th>status_group</th>\n",
              "    </tr>\n",
              "    <tr>\n",
              "      <th>id</th>\n",
              "      <th></th>\n",
              "      <th></th>\n",
              "      <th></th>\n",
              "      <th></th>\n",
              "      <th></th>\n",
              "      <th></th>\n",
              "      <th></th>\n",
              "      <th></th>\n",
              "      <th></th>\n",
              "      <th></th>\n",
              "      <th></th>\n",
              "      <th></th>\n",
              "      <th></th>\n",
              "      <th></th>\n",
              "      <th></th>\n",
              "      <th></th>\n",
              "    </tr>\n",
              "  </thead>\n",
              "  <tbody>\n",
              "    <tr>\n",
              "      <th>69572</th>\n",
              "      <td>34.938093</td>\n",
              "      <td>-9.856322</td>\n",
              "      <td>03</td>\n",
              "      <td>14</td>\n",
              "      <td>Lake Nyasa</td>\n",
              "      <td>Iringa</td>\n",
              "      <td>5</td>\n",
              "      <td>VWC</td>\n",
              "      <td>gravity</td>\n",
              "      <td>pay annually</td>\n",
              "      <td>enough</td>\n",
              "      <td>groundwater</td>\n",
              "      <td>communal standpipe</td>\n",
              "      <td>0</td>\n",
              "      <td>1</td>\n",
              "      <td>functional</td>\n",
              "    </tr>\n",
              "    <tr>\n",
              "      <th>8776</th>\n",
              "      <td>34.698766</td>\n",
              "      <td>-2.147466</td>\n",
              "      <td>03</td>\n",
              "      <td>06</td>\n",
              "      <td>Lake Victoria</td>\n",
              "      <td>Mara</td>\n",
              "      <td>2</td>\n",
              "      <td>Other</td>\n",
              "      <td>gravity</td>\n",
              "      <td>never pay</td>\n",
              "      <td>insufficient</td>\n",
              "      <td>surface</td>\n",
              "      <td>communal standpipe</td>\n",
              "      <td>1</td>\n",
              "      <td>0</td>\n",
              "      <td>functional</td>\n",
              "    </tr>\n",
              "    <tr>\n",
              "      <th>34310</th>\n",
              "      <td>37.460664</td>\n",
              "      <td>-3.821329</td>\n",
              "      <td>02</td>\n",
              "      <td>25</td>\n",
              "      <td>Pangani</td>\n",
              "      <td>Manyara</td>\n",
              "      <td>4</td>\n",
              "      <td>VWC</td>\n",
              "      <td>gravity</td>\n",
              "      <td>pay per bucket</td>\n",
              "      <td>enough</td>\n",
              "      <td>surface</td>\n",
              "      <td>communal standpipe multiple</td>\n",
              "      <td>1</td>\n",
              "      <td>1</td>\n",
              "      <td>functional</td>\n",
              "    </tr>\n",
              "    <tr>\n",
              "      <th>67743</th>\n",
              "      <td>38.486161</td>\n",
              "      <td>-11.155298</td>\n",
              "      <td>01</td>\n",
              "      <td>28</td>\n",
              "      <td>Ruvuma / Southern Coast</td>\n",
              "      <td>Mtwara</td>\n",
              "      <td>63</td>\n",
              "      <td>VWC</td>\n",
              "      <td>submersible</td>\n",
              "      <td>never pay</td>\n",
              "      <td>dry</td>\n",
              "      <td>groundwater</td>\n",
              "      <td>communal standpipe multiple</td>\n",
              "      <td>1</td>\n",
              "      <td>1</td>\n",
              "      <td>non functional</td>\n",
              "    </tr>\n",
              "    <tr>\n",
              "      <th>19728</th>\n",
              "      <td>31.130847</td>\n",
              "      <td>-1.825359</td>\n",
              "      <td>07</td>\n",
              "      <td>13</td>\n",
              "      <td>Lake Victoria</td>\n",
              "      <td>Kagera</td>\n",
              "      <td>1</td>\n",
              "      <td>Other</td>\n",
              "      <td>gravity</td>\n",
              "      <td>never pay</td>\n",
              "      <td>seasonal</td>\n",
              "      <td>surface</td>\n",
              "      <td>communal standpipe</td>\n",
              "      <td>1</td>\n",
              "      <td>1</td>\n",
              "      <td>functional</td>\n",
              "    </tr>\n",
              "  </tbody>\n",
              "</table>\n",
              "</div>"
            ],
            "text/plain": [
              "       longitude   latitude  ... public_meeting    status_group\n",
              "id                           ...                               \n",
              "69572  34.938093  -9.856322  ...              1      functional\n",
              "8776   34.698766  -2.147466  ...              0      functional\n",
              "34310  37.460664  -3.821329  ...              1      functional\n",
              "67743  38.486161 -11.155298  ...              1  non functional\n",
              "19728  31.130847  -1.825359  ...              1      functional\n",
              "\n",
              "[5 rows x 16 columns]"
            ]
          },
          "metadata": {
            "tags": []
          },
          "execution_count": 35
        }
      ]
    },
    {
      "cell_type": "code",
      "metadata": {
        "id": "iA6EEvmMNASZ",
        "colab_type": "code",
        "outputId": "a11fe708-e2df-4f35-a90c-e42aae29d3a5",
        "colab": {
          "base_uri": "https://localhost:8080/",
          "height": 391
        }
      },
      "source": [
        "from sklearn.preprocessing import OneHotEncoder\n",
        "encoder = OneHotEncoder(sparse=False)\n",
        "result = encoder.fit_transform(filtered_df_train[NOMINAL_VALUE_COLUMNS])\n",
        "encoder.get_feature_names()"
      ],
      "execution_count": 0,
      "outputs": [
        {
          "output_type": "execute_result",
          "data": {
            "text/plain": [
              "array(['x0_Internal', 'x0_Lake Nyasa', 'x0_Lake Rukwa',\n",
              "       'x0_Lake Tanganyika', 'x0_Lake Victoria', 'x0_Pangani',\n",
              "       'x0_Rufiji', 'x0_Ruvuma / Southern Coast', 'x0_Wami / Ruvu',\n",
              "       'x1_Arusha', 'x1_Dar es Salaam', 'x1_Dodoma', 'x1_Iringa',\n",
              "       'x1_Kagera', 'x1_Kigoma', 'x1_Kilimanjaro', 'x1_Lindi',\n",
              "       'x1_Manyara', 'x1_Mara', 'x1_Mbeya', 'x1_Morogoro', 'x1_Mtwara',\n",
              "       'x1_Mwanza', 'x1_Pwani', 'x1_Rukwa', 'x1_Ruvuma', 'x1_Shinyanga',\n",
              "       'x1_Singida', 'x1_Tabora', 'x1_Tanga', 'x2_0', 'x2_1', 'x2_2',\n",
              "       'x2_3', 'x2_4', 'x2_5', 'x2_6', 'x2_7', 'x2_8', 'x2_13', 'x2_23',\n",
              "       'x2_30', 'x2_33', 'x2_43', 'x2_53', 'x2_60', 'x2_62', 'x2_63',\n",
              "       'x2_67', 'x2_80', 'x3_Company', 'x3_None', 'x3_Other',\n",
              "       'x3_Parastatal', 'x3_Private operator', 'x3_SWC', 'x3_Trust',\n",
              "       'x3_VWC', 'x3_WUA', 'x3_WUG', 'x3_Water Board',\n",
              "       'x3_Water authority', 'x4_gravity', 'x4_handpump', 'x4_motorpump',\n",
              "       'x4_other', 'x4_rope pump', 'x4_submersible', 'x4_wind-powered',\n",
              "       'x5_never pay', 'x5_other', 'x5_pay annually', 'x5_pay monthly',\n",
              "       'x5_pay per bucket', 'x5_pay when scheme fails', 'x5_unknown',\n",
              "       'x6_dry', 'x6_enough', 'x6_insufficient', 'x6_seasonal',\n",
              "       'x6_unknown', 'x7_groundwater', 'x7_surface', 'x7_unknown',\n",
              "       'x8_cattle trough', 'x8_communal standpipe',\n",
              "       'x8_communal standpipe multiple', 'x8_dam', 'x8_hand pump',\n",
              "       'x8_improved spring', 'x8_other'], dtype=object)"
            ]
          },
          "metadata": {
            "tags": []
          },
          "execution_count": 36
        }
      ]
    },
    {
      "cell_type": "code",
      "metadata": {
        "id": "PMNL_xEYVM3p",
        "colab_type": "code",
        "outputId": "1cd259bb-7c80-434c-a7d0-91b8bd5af0e9",
        "colab": {
          "base_uri": "https://localhost:8080/",
          "height": 51
        }
      },
      "source": [
        "from sklearn.preprocessing import OrdinalEncoder\n",
        "target_enc = OrdinalEncoder()\n",
        "target_result = target_enc.fit_transform(filtered_df_train[TARGET_COLUMN].values.reshape(-1,1))\n",
        "target_enc.categories_"
      ],
      "execution_count": 0,
      "outputs": [
        {
          "output_type": "execute_result",
          "data": {
            "text/plain": [
              "[array(['functional', 'functional needs repair', 'non functional'],\n",
              "       dtype=object)]"
            ]
          },
          "metadata": {
            "tags": []
          },
          "execution_count": 37
        }
      ]
    },
    {
      "cell_type": "code",
      "metadata": {
        "id": "Yg8uLuxXZFVw",
        "colab_type": "code",
        "colab": {}
      },
      "source": [
        "from sklearn.preprocessing import PowerTransformer\n",
        "p_trans = PowerTransformer()\n",
        "continous_values_transformed = p_trans.fit_transform(filtered_df_train[CONTINOUS_VALUE_COLUMNS])"
      ],
      "execution_count": 0,
      "outputs": []
    },
    {
      "cell_type": "code",
      "metadata": {
        "id": "I_73WunFUs_d",
        "colab_type": "code",
        "outputId": "b1badd69-4cc9-4c2f-8fce-c74c8b5d82a7",
        "colab": {
          "base_uri": "https://localhost:8080/",
          "height": 304
        }
      },
      "source": [
        "output_cols = CONTINOUS_VALUE_COLUMNS.copy()\n",
        "output_cols.extend(BOOLEAN_VALUE_COLUMNS.copy())\n",
        "output_cols.extend(encoder.get_feature_names())\n",
        "output_cols.append('target')\n",
        "output_data = np.copy(result)\n",
        "output_data = np.concatenate((continous_values_transformed, filtered_df_train[BOOLEAN_VALUE_COLUMNS], result, target_result),axis =1)\n",
        "output_cols\n",
        "df_output = pd.DataFrame(output_data, columns=output_cols)\n",
        "df_output.head()"
      ],
      "execution_count": 0,
      "outputs": [
        {
          "output_type": "execute_result",
          "data": {
            "text/html": [
              "<div>\n",
              "<style scoped>\n",
              "    .dataframe tbody tr th:only-of-type {\n",
              "        vertical-align: middle;\n",
              "    }\n",
              "\n",
              "    .dataframe tbody tr th {\n",
              "        vertical-align: top;\n",
              "    }\n",
              "\n",
              "    .dataframe thead th {\n",
              "        text-align: right;\n",
              "    }\n",
              "</style>\n",
              "<table border=\"1\" class=\"dataframe\">\n",
              "  <thead>\n",
              "    <tr style=\"text-align: right;\">\n",
              "      <th></th>\n",
              "      <th>longitude</th>\n",
              "      <th>latitude</th>\n",
              "      <th>month_recorded</th>\n",
              "      <th>day_recorded</th>\n",
              "      <th>permit</th>\n",
              "      <th>public_meeting</th>\n",
              "      <th>x0_Internal</th>\n",
              "      <th>x0_Lake Nyasa</th>\n",
              "      <th>x0_Lake Rukwa</th>\n",
              "      <th>x0_Lake Tanganyika</th>\n",
              "      <th>x0_Lake Victoria</th>\n",
              "      <th>x0_Pangani</th>\n",
              "      <th>x0_Rufiji</th>\n",
              "      <th>x0_Ruvuma / Southern Coast</th>\n",
              "      <th>x0_Wami / Ruvu</th>\n",
              "      <th>x1_Arusha</th>\n",
              "      <th>x1_Dar es Salaam</th>\n",
              "      <th>x1_Dodoma</th>\n",
              "      <th>x1_Iringa</th>\n",
              "      <th>x1_Kagera</th>\n",
              "      <th>x1_Kigoma</th>\n",
              "      <th>x1_Kilimanjaro</th>\n",
              "      <th>x1_Lindi</th>\n",
              "      <th>x1_Manyara</th>\n",
              "      <th>x1_Mara</th>\n",
              "      <th>x1_Mbeya</th>\n",
              "      <th>x1_Morogoro</th>\n",
              "      <th>x1_Mtwara</th>\n",
              "      <th>x1_Mwanza</th>\n",
              "      <th>x1_Pwani</th>\n",
              "      <th>x1_Rukwa</th>\n",
              "      <th>x1_Ruvuma</th>\n",
              "      <th>x1_Shinyanga</th>\n",
              "      <th>x1_Singida</th>\n",
              "      <th>x1_Tabora</th>\n",
              "      <th>x1_Tanga</th>\n",
              "      <th>x2_0</th>\n",
              "      <th>x2_1</th>\n",
              "      <th>x2_2</th>\n",
              "      <th>x2_3</th>\n",
              "      <th>...</th>\n",
              "      <th>x3_Other</th>\n",
              "      <th>x3_Parastatal</th>\n",
              "      <th>x3_Private operator</th>\n",
              "      <th>x3_SWC</th>\n",
              "      <th>x3_Trust</th>\n",
              "      <th>x3_VWC</th>\n",
              "      <th>x3_WUA</th>\n",
              "      <th>x3_WUG</th>\n",
              "      <th>x3_Water Board</th>\n",
              "      <th>x3_Water authority</th>\n",
              "      <th>x4_gravity</th>\n",
              "      <th>x4_handpump</th>\n",
              "      <th>x4_motorpump</th>\n",
              "      <th>x4_other</th>\n",
              "      <th>x4_rope pump</th>\n",
              "      <th>x4_submersible</th>\n",
              "      <th>x4_wind-powered</th>\n",
              "      <th>x5_never pay</th>\n",
              "      <th>x5_other</th>\n",
              "      <th>x5_pay annually</th>\n",
              "      <th>x5_pay monthly</th>\n",
              "      <th>x5_pay per bucket</th>\n",
              "      <th>x5_pay when scheme fails</th>\n",
              "      <th>x5_unknown</th>\n",
              "      <th>x6_dry</th>\n",
              "      <th>x6_enough</th>\n",
              "      <th>x6_insufficient</th>\n",
              "      <th>x6_seasonal</th>\n",
              "      <th>x6_unknown</th>\n",
              "      <th>x7_groundwater</th>\n",
              "      <th>x7_surface</th>\n",
              "      <th>x7_unknown</th>\n",
              "      <th>x8_cattle trough</th>\n",
              "      <th>x8_communal standpipe</th>\n",
              "      <th>x8_communal standpipe multiple</th>\n",
              "      <th>x8_dam</th>\n",
              "      <th>x8_hand pump</th>\n",
              "      <th>x8_improved spring</th>\n",
              "      <th>x8_other</th>\n",
              "      <th>target</th>\n",
              "    </tr>\n",
              "  </thead>\n",
              "  <tbody>\n",
              "    <tr>\n",
              "      <th>0</th>\n",
              "      <td>-0.072579</td>\n",
              "      <td>-1.333935</td>\n",
              "      <td>-0.203651</td>\n",
              "      <td>-0.113275</td>\n",
              "      <td>0.0</td>\n",
              "      <td>1.0</td>\n",
              "      <td>0.0</td>\n",
              "      <td>1.0</td>\n",
              "      <td>0.0</td>\n",
              "      <td>0.0</td>\n",
              "      <td>0.0</td>\n",
              "      <td>0.0</td>\n",
              "      <td>0.0</td>\n",
              "      <td>0.0</td>\n",
              "      <td>0.0</td>\n",
              "      <td>0.0</td>\n",
              "      <td>0.0</td>\n",
              "      <td>0.0</td>\n",
              "      <td>1.0</td>\n",
              "      <td>0.0</td>\n",
              "      <td>0.0</td>\n",
              "      <td>0.0</td>\n",
              "      <td>0.0</td>\n",
              "      <td>0.0</td>\n",
              "      <td>0.0</td>\n",
              "      <td>0.0</td>\n",
              "      <td>0.0</td>\n",
              "      <td>0.0</td>\n",
              "      <td>0.0</td>\n",
              "      <td>0.0</td>\n",
              "      <td>0.0</td>\n",
              "      <td>0.0</td>\n",
              "      <td>0.0</td>\n",
              "      <td>0.0</td>\n",
              "      <td>0.0</td>\n",
              "      <td>0.0</td>\n",
              "      <td>0.0</td>\n",
              "      <td>0.0</td>\n",
              "      <td>0.0</td>\n",
              "      <td>0.0</td>\n",
              "      <td>...</td>\n",
              "      <td>0.0</td>\n",
              "      <td>0.0</td>\n",
              "      <td>0.0</td>\n",
              "      <td>0.0</td>\n",
              "      <td>0.0</td>\n",
              "      <td>1.0</td>\n",
              "      <td>0.0</td>\n",
              "      <td>0.0</td>\n",
              "      <td>0.0</td>\n",
              "      <td>0.0</td>\n",
              "      <td>1.0</td>\n",
              "      <td>0.0</td>\n",
              "      <td>0.0</td>\n",
              "      <td>0.0</td>\n",
              "      <td>0.0</td>\n",
              "      <td>0.0</td>\n",
              "      <td>0.0</td>\n",
              "      <td>0.0</td>\n",
              "      <td>0.0</td>\n",
              "      <td>1.0</td>\n",
              "      <td>0.0</td>\n",
              "      <td>0.0</td>\n",
              "      <td>0.0</td>\n",
              "      <td>0.0</td>\n",
              "      <td>0.0</td>\n",
              "      <td>1.0</td>\n",
              "      <td>0.0</td>\n",
              "      <td>0.0</td>\n",
              "      <td>0.0</td>\n",
              "      <td>1.0</td>\n",
              "      <td>0.0</td>\n",
              "      <td>0.0</td>\n",
              "      <td>0.0</td>\n",
              "      <td>1.0</td>\n",
              "      <td>0.0</td>\n",
              "      <td>0.0</td>\n",
              "      <td>0.0</td>\n",
              "      <td>0.0</td>\n",
              "      <td>0.0</td>\n",
              "      <td>0.0</td>\n",
              "    </tr>\n",
              "    <tr>\n",
              "      <th>1</th>\n",
              "      <td>-0.164850</td>\n",
              "      <td>1.467179</td>\n",
              "      <td>-0.203651</td>\n",
              "      <td>-1.095515</td>\n",
              "      <td>1.0</td>\n",
              "      <td>0.0</td>\n",
              "      <td>0.0</td>\n",
              "      <td>0.0</td>\n",
              "      <td>0.0</td>\n",
              "      <td>0.0</td>\n",
              "      <td>1.0</td>\n",
              "      <td>0.0</td>\n",
              "      <td>0.0</td>\n",
              "      <td>0.0</td>\n",
              "      <td>0.0</td>\n",
              "      <td>0.0</td>\n",
              "      <td>0.0</td>\n",
              "      <td>0.0</td>\n",
              "      <td>0.0</td>\n",
              "      <td>0.0</td>\n",
              "      <td>0.0</td>\n",
              "      <td>0.0</td>\n",
              "      <td>0.0</td>\n",
              "      <td>0.0</td>\n",
              "      <td>1.0</td>\n",
              "      <td>0.0</td>\n",
              "      <td>0.0</td>\n",
              "      <td>0.0</td>\n",
              "      <td>0.0</td>\n",
              "      <td>0.0</td>\n",
              "      <td>0.0</td>\n",
              "      <td>0.0</td>\n",
              "      <td>0.0</td>\n",
              "      <td>0.0</td>\n",
              "      <td>0.0</td>\n",
              "      <td>0.0</td>\n",
              "      <td>0.0</td>\n",
              "      <td>0.0</td>\n",
              "      <td>1.0</td>\n",
              "      <td>0.0</td>\n",
              "      <td>...</td>\n",
              "      <td>1.0</td>\n",
              "      <td>0.0</td>\n",
              "      <td>0.0</td>\n",
              "      <td>0.0</td>\n",
              "      <td>0.0</td>\n",
              "      <td>0.0</td>\n",
              "      <td>0.0</td>\n",
              "      <td>0.0</td>\n",
              "      <td>0.0</td>\n",
              "      <td>0.0</td>\n",
              "      <td>1.0</td>\n",
              "      <td>0.0</td>\n",
              "      <td>0.0</td>\n",
              "      <td>0.0</td>\n",
              "      <td>0.0</td>\n",
              "      <td>0.0</td>\n",
              "      <td>0.0</td>\n",
              "      <td>1.0</td>\n",
              "      <td>0.0</td>\n",
              "      <td>0.0</td>\n",
              "      <td>0.0</td>\n",
              "      <td>0.0</td>\n",
              "      <td>0.0</td>\n",
              "      <td>0.0</td>\n",
              "      <td>0.0</td>\n",
              "      <td>0.0</td>\n",
              "      <td>1.0</td>\n",
              "      <td>0.0</td>\n",
              "      <td>0.0</td>\n",
              "      <td>0.0</td>\n",
              "      <td>1.0</td>\n",
              "      <td>0.0</td>\n",
              "      <td>0.0</td>\n",
              "      <td>1.0</td>\n",
              "      <td>0.0</td>\n",
              "      <td>0.0</td>\n",
              "      <td>0.0</td>\n",
              "      <td>0.0</td>\n",
              "      <td>0.0</td>\n",
              "      <td>0.0</td>\n",
              "    </tr>\n",
              "    <tr>\n",
              "      <th>2</th>\n",
              "      <td>0.914459</td>\n",
              "      <td>0.624939</td>\n",
              "      <td>-0.800019</td>\n",
              "      <td>1.052948</td>\n",
              "      <td>1.0</td>\n",
              "      <td>1.0</td>\n",
              "      <td>0.0</td>\n",
              "      <td>0.0</td>\n",
              "      <td>0.0</td>\n",
              "      <td>0.0</td>\n",
              "      <td>0.0</td>\n",
              "      <td>1.0</td>\n",
              "      <td>0.0</td>\n",
              "      <td>0.0</td>\n",
              "      <td>0.0</td>\n",
              "      <td>0.0</td>\n",
              "      <td>0.0</td>\n",
              "      <td>0.0</td>\n",
              "      <td>0.0</td>\n",
              "      <td>0.0</td>\n",
              "      <td>0.0</td>\n",
              "      <td>0.0</td>\n",
              "      <td>0.0</td>\n",
              "      <td>1.0</td>\n",
              "      <td>0.0</td>\n",
              "      <td>0.0</td>\n",
              "      <td>0.0</td>\n",
              "      <td>0.0</td>\n",
              "      <td>0.0</td>\n",
              "      <td>0.0</td>\n",
              "      <td>0.0</td>\n",
              "      <td>0.0</td>\n",
              "      <td>0.0</td>\n",
              "      <td>0.0</td>\n",
              "      <td>0.0</td>\n",
              "      <td>0.0</td>\n",
              "      <td>0.0</td>\n",
              "      <td>0.0</td>\n",
              "      <td>0.0</td>\n",
              "      <td>0.0</td>\n",
              "      <td>...</td>\n",
              "      <td>0.0</td>\n",
              "      <td>0.0</td>\n",
              "      <td>0.0</td>\n",
              "      <td>0.0</td>\n",
              "      <td>0.0</td>\n",
              "      <td>1.0</td>\n",
              "      <td>0.0</td>\n",
              "      <td>0.0</td>\n",
              "      <td>0.0</td>\n",
              "      <td>0.0</td>\n",
              "      <td>1.0</td>\n",
              "      <td>0.0</td>\n",
              "      <td>0.0</td>\n",
              "      <td>0.0</td>\n",
              "      <td>0.0</td>\n",
              "      <td>0.0</td>\n",
              "      <td>0.0</td>\n",
              "      <td>0.0</td>\n",
              "      <td>0.0</td>\n",
              "      <td>0.0</td>\n",
              "      <td>0.0</td>\n",
              "      <td>1.0</td>\n",
              "      <td>0.0</td>\n",
              "      <td>0.0</td>\n",
              "      <td>0.0</td>\n",
              "      <td>1.0</td>\n",
              "      <td>0.0</td>\n",
              "      <td>0.0</td>\n",
              "      <td>0.0</td>\n",
              "      <td>0.0</td>\n",
              "      <td>1.0</td>\n",
              "      <td>0.0</td>\n",
              "      <td>0.0</td>\n",
              "      <td>0.0</td>\n",
              "      <td>1.0</td>\n",
              "      <td>0.0</td>\n",
              "      <td>0.0</td>\n",
              "      <td>0.0</td>\n",
              "      <td>0.0</td>\n",
              "      <td>0.0</td>\n",
              "    </tr>\n",
              "    <tr>\n",
              "      <th>3</th>\n",
              "      <td>1.323128</td>\n",
              "      <td>-1.649368</td>\n",
              "      <td>-1.737012</td>\n",
              "      <td>1.349163</td>\n",
              "      <td>1.0</td>\n",
              "      <td>1.0</td>\n",
              "      <td>0.0</td>\n",
              "      <td>0.0</td>\n",
              "      <td>0.0</td>\n",
              "      <td>0.0</td>\n",
              "      <td>0.0</td>\n",
              "      <td>0.0</td>\n",
              "      <td>0.0</td>\n",
              "      <td>1.0</td>\n",
              "      <td>0.0</td>\n",
              "      <td>0.0</td>\n",
              "      <td>0.0</td>\n",
              "      <td>0.0</td>\n",
              "      <td>0.0</td>\n",
              "      <td>0.0</td>\n",
              "      <td>0.0</td>\n",
              "      <td>0.0</td>\n",
              "      <td>0.0</td>\n",
              "      <td>0.0</td>\n",
              "      <td>0.0</td>\n",
              "      <td>0.0</td>\n",
              "      <td>0.0</td>\n",
              "      <td>1.0</td>\n",
              "      <td>0.0</td>\n",
              "      <td>0.0</td>\n",
              "      <td>0.0</td>\n",
              "      <td>0.0</td>\n",
              "      <td>0.0</td>\n",
              "      <td>0.0</td>\n",
              "      <td>0.0</td>\n",
              "      <td>0.0</td>\n",
              "      <td>0.0</td>\n",
              "      <td>0.0</td>\n",
              "      <td>0.0</td>\n",
              "      <td>0.0</td>\n",
              "      <td>...</td>\n",
              "      <td>0.0</td>\n",
              "      <td>0.0</td>\n",
              "      <td>0.0</td>\n",
              "      <td>0.0</td>\n",
              "      <td>0.0</td>\n",
              "      <td>1.0</td>\n",
              "      <td>0.0</td>\n",
              "      <td>0.0</td>\n",
              "      <td>0.0</td>\n",
              "      <td>0.0</td>\n",
              "      <td>0.0</td>\n",
              "      <td>0.0</td>\n",
              "      <td>0.0</td>\n",
              "      <td>0.0</td>\n",
              "      <td>0.0</td>\n",
              "      <td>1.0</td>\n",
              "      <td>0.0</td>\n",
              "      <td>1.0</td>\n",
              "      <td>0.0</td>\n",
              "      <td>0.0</td>\n",
              "      <td>0.0</td>\n",
              "      <td>0.0</td>\n",
              "      <td>0.0</td>\n",
              "      <td>0.0</td>\n",
              "      <td>1.0</td>\n",
              "      <td>0.0</td>\n",
              "      <td>0.0</td>\n",
              "      <td>0.0</td>\n",
              "      <td>0.0</td>\n",
              "      <td>1.0</td>\n",
              "      <td>0.0</td>\n",
              "      <td>0.0</td>\n",
              "      <td>0.0</td>\n",
              "      <td>0.0</td>\n",
              "      <td>1.0</td>\n",
              "      <td>0.0</td>\n",
              "      <td>0.0</td>\n",
              "      <td>0.0</td>\n",
              "      <td>0.0</td>\n",
              "      <td>2.0</td>\n",
              "    </tr>\n",
              "    <tr>\n",
              "      <th>4</th>\n",
              "      <td>-1.511151</td>\n",
              "      <td>1.662763</td>\n",
              "      <td>1.031072</td>\n",
              "      <td>-0.227724</td>\n",
              "      <td>1.0</td>\n",
              "      <td>1.0</td>\n",
              "      <td>0.0</td>\n",
              "      <td>0.0</td>\n",
              "      <td>0.0</td>\n",
              "      <td>0.0</td>\n",
              "      <td>1.0</td>\n",
              "      <td>0.0</td>\n",
              "      <td>0.0</td>\n",
              "      <td>0.0</td>\n",
              "      <td>0.0</td>\n",
              "      <td>0.0</td>\n",
              "      <td>0.0</td>\n",
              "      <td>0.0</td>\n",
              "      <td>0.0</td>\n",
              "      <td>1.0</td>\n",
              "      <td>0.0</td>\n",
              "      <td>0.0</td>\n",
              "      <td>0.0</td>\n",
              "      <td>0.0</td>\n",
              "      <td>0.0</td>\n",
              "      <td>0.0</td>\n",
              "      <td>0.0</td>\n",
              "      <td>0.0</td>\n",
              "      <td>0.0</td>\n",
              "      <td>0.0</td>\n",
              "      <td>0.0</td>\n",
              "      <td>0.0</td>\n",
              "      <td>0.0</td>\n",
              "      <td>0.0</td>\n",
              "      <td>0.0</td>\n",
              "      <td>0.0</td>\n",
              "      <td>0.0</td>\n",
              "      <td>1.0</td>\n",
              "      <td>0.0</td>\n",
              "      <td>0.0</td>\n",
              "      <td>...</td>\n",
              "      <td>1.0</td>\n",
              "      <td>0.0</td>\n",
              "      <td>0.0</td>\n",
              "      <td>0.0</td>\n",
              "      <td>0.0</td>\n",
              "      <td>0.0</td>\n",
              "      <td>0.0</td>\n",
              "      <td>0.0</td>\n",
              "      <td>0.0</td>\n",
              "      <td>0.0</td>\n",
              "      <td>1.0</td>\n",
              "      <td>0.0</td>\n",
              "      <td>0.0</td>\n",
              "      <td>0.0</td>\n",
              "      <td>0.0</td>\n",
              "      <td>0.0</td>\n",
              "      <td>0.0</td>\n",
              "      <td>1.0</td>\n",
              "      <td>0.0</td>\n",
              "      <td>0.0</td>\n",
              "      <td>0.0</td>\n",
              "      <td>0.0</td>\n",
              "      <td>0.0</td>\n",
              "      <td>0.0</td>\n",
              "      <td>0.0</td>\n",
              "      <td>0.0</td>\n",
              "      <td>0.0</td>\n",
              "      <td>1.0</td>\n",
              "      <td>0.0</td>\n",
              "      <td>0.0</td>\n",
              "      <td>1.0</td>\n",
              "      <td>0.0</td>\n",
              "      <td>0.0</td>\n",
              "      <td>1.0</td>\n",
              "      <td>0.0</td>\n",
              "      <td>0.0</td>\n",
              "      <td>0.0</td>\n",
              "      <td>0.0</td>\n",
              "      <td>0.0</td>\n",
              "      <td>0.0</td>\n",
              "    </tr>\n",
              "  </tbody>\n",
              "</table>\n",
              "<p>5 rows × 98 columns</p>\n",
              "</div>"
            ],
            "text/plain": [
              "   longitude  latitude  month_recorded  ...  x8_improved spring  x8_other  target\n",
              "0  -0.072579 -1.333935       -0.203651  ...                 0.0       0.0     0.0\n",
              "1  -0.164850  1.467179       -0.203651  ...                 0.0       0.0     0.0\n",
              "2   0.914459  0.624939       -0.800019  ...                 0.0       0.0     0.0\n",
              "3   1.323128 -1.649368       -1.737012  ...                 0.0       0.0     2.0\n",
              "4  -1.511151  1.662763        1.031072  ...                 0.0       0.0     0.0\n",
              "\n",
              "[5 rows x 98 columns]"
            ]
          },
          "metadata": {
            "tags": []
          },
          "execution_count": 39
        }
      ]
    },
    {
      "cell_type": "markdown",
      "metadata": {
        "id": "3LS4oZmch8s3",
        "colab_type": "text"
      },
      "source": [
        "## Oversample"
      ]
    },
    {
      "cell_type": "code",
      "metadata": {
        "id": "wrv2gdc0h4zn",
        "colab_type": "code",
        "outputId": "49c14760-8ff4-47ab-90b7-67f06090d392",
        "colab": {
          "base_uri": "https://localhost:8080/",
          "height": 283
        }
      },
      "source": [
        "from imblearn.over_sampling import SMOTE\n",
        "over_sampling = SMOTE(random_state=42, k_neighbors=5)\n",
        "x_over_sampled, y_over_sampled = over_sampling.fit_resample(df_output.drop('target', axis=1), df_output.target)\n",
        "sns.countplot(x='status_group', data=pd.DataFrame(y_over_sampled, columns=['status_group']));"
      ],
      "execution_count": 0,
      "outputs": [
        {
          "output_type": "display_data",
          "data": {
            "image/png": "[encoded data removed]",
            "text/plain": [
              "<Figure size 432x288 with 1 Axes>"
            ]
          },
          "metadata": {
            "tags": []
          }
        }
      ]
    },
    {
      "cell_type": "code",
      "metadata": {
        "id": "7M9CfJdxiMqP",
        "colab_type": "code",
        "colab": {}
      },
      "source": [
        "df_oversampled = pd.DataFrame(np.column_stack((x_over_sampled, y_over_sampled)), columns=df_output.columns)"
      ],
      "execution_count": 0,
      "outputs": []
    },
    {
      "cell_type": "markdown",
      "metadata": {
        "id": "5OIwQKXPbKLr",
        "colab_type": "text"
      },
      "source": [
        "## NN"
      ]
    },
    {
      "cell_type": "code",
      "metadata": {
        "id": "8YbAwkeBarPh",
        "colab_type": "code",
        "colab": {}
      },
      "source": [
        "x = df_oversampled.drop('target', axis=1)\n",
        "y = df_oversampled.target"
      ],
      "execution_count": 0,
      "outputs": []
    },
    {
      "cell_type": "code",
      "metadata": {
        "id": "2U7VzK2LdqSI",
        "colab_type": "code",
        "colab": {}
      },
      "source": [
        "from sklearn.model_selection import train_test_split\n",
        "x_train, x_test, y_train, y_test = train_test_split(x, y, test_size = 0.2, random_state = 0)"
      ],
      "execution_count": 0,
      "outputs": []
    },
    {
      "cell_type": "code",
      "metadata": {
        "id": "cf1znPNL3GXc",
        "colab_type": "code",
        "outputId": "41df6dac-139d-4ca0-8bb1-c9da080d6963",
        "colab": {
          "base_uri": "https://localhost:8080/",
          "height": 51
        }
      },
      "source": [
        "import tensorflow.keras as keras\n",
        "import tensorflow as tf\n",
        "\n",
        "print('tensorflow', tf.__version__)\n",
        "print('keras', keras.__version__)"
      ],
      "execution_count": 0,
      "outputs": [
        {
          "output_type": "stream",
          "text": [
            "tensorflow 1.14.0\n",
            "keras 2.2.4-tf\n"
          ],
          "name": "stdout"
        }
      ]
    },
    {
      "cell_type": "code",
      "metadata": {
        "id": "CeVrRzmbcVZ2",
        "colab_type": "code",
        "colab": {}
      },
      "source": [
        "model = tf.keras.models.Sequential()\n",
        "model.add(tf.keras.layers.Dense(96774, activation=tf.nn.relu))\n",
        "model.add(tf.keras.layers.Dense(1000, activation=tf.nn.relu))\n",
        "model.add(tf.keras.layers.Dense(3, activation=tf.nn.softmax))"
      ],
      "execution_count": 0,
      "outputs": []
    },
    {
      "cell_type": "code",
      "metadata": {
        "id": "EU1YKf_Bd7wA",
        "colab_type": "code",
        "outputId": "b2f1eb35-b89c-49be-8b29-c79e8f08623e",
        "colab": {
          "base_uri": "https://localhost:8080/",
          "height": 198
        }
      },
      "source": [
        "model.compile(optimizer='adam',\n",
        "              loss='sparse_categorical_crossentropy',\n",
        "              metrics=['accuracy'])"
      ],
      "execution_count": 0,
      "outputs": [
        {
          "output_type": "error",
          "ename": "NameError",
          "evalue": "ignored",
          "traceback": [
            "\u001b[0;31m---------------------------------------------------------------------------\u001b[0m",
            "\u001b[0;31mNameError\u001b[0m                                 Traceback (most recent call last)",
            "\u001b[0;32m<ipython-input-1-bea1f0aede08>\u001b[0m in \u001b[0;36m<module>\u001b[0;34m()\u001b[0m\n\u001b[0;32m----> 1\u001b[0;31m model.compile(optimizer='adam',\n\u001b[0m\u001b[1;32m      2\u001b[0m               \u001b[0mloss\u001b[0m\u001b[0;34m=\u001b[0m\u001b[0;34m'sparse_categorical_crossentropy'\u001b[0m\u001b[0;34m,\u001b[0m\u001b[0;34m\u001b[0m\u001b[0;34m\u001b[0m\u001b[0m\n\u001b[1;32m      3\u001b[0m               metrics=['accuracy'])\n",
            "\u001b[0;31mNameError\u001b[0m: name 'model' is not defined"
          ]
        }
      ]
    },
    {
      "cell_type": "code",
      "metadata": {
        "id": "_Dfi6g2SeAy9",
        "colab_type": "code",
        "outputId": "24bfa999-9034-4d02-f5c2-f41ac5d77ef9",
        "colab": {
          "base_uri": "https://localhost:8080/",
          "height": 374
        }
      },
      "source": [
        "model.fit(x_train.values, y_train.values, epochs=10)"
      ],
      "execution_count": 0,
      "outputs": [
        {
          "output_type": "stream",
          "text": [
            "Epoch 1/10\n",
            "77419/77419 [==============================] - 74s 954us/sample - loss: 0.7179 - acc: 0.6816\n",
            "Epoch 2/10\n",
            "77419/77419 [==============================] - 73s 949us/sample - loss: 0.6153 - acc: 0.7300\n",
            "Epoch 3/10\n",
            "77419/77419 [==============================] - 74s 950us/sample - loss: 0.5737 - acc: 0.7507\n",
            "Epoch 4/10\n",
            "77419/77419 [==============================] - 74s 950us/sample - loss: 0.5469 - acc: 0.7616\n",
            "Epoch 5/10\n",
            "77419/77419 [==============================] - 74s 949us/sample - loss: 0.5258 - acc: 0.7736\n",
            "Epoch 6/10\n",
            "77419/77419 [==============================] - 74s 950us/sample - loss: 0.5098 - acc: 0.7792\n",
            "Epoch 7/10\n",
            "77419/77419 [==============================] - 74s 950us/sample - loss: 0.4966 - acc: 0.7851\n",
            "Epoch 8/10\n",
            "77419/77419 [==============================] - 74s 950us/sample - loss: 0.4839 - acc: 0.7906\n",
            "Epoch 9/10\n",
            "77419/77419 [==============================] - 73s 949us/sample - loss: 0.4745 - acc: 0.7952\n",
            "Epoch 10/10\n",
            "77419/77419 [==============================] - 74s 950us/sample - loss: 0.4688 - acc: 0.7962\n"
          ],
          "name": "stdout"
        },
        {
          "output_type": "execute_result",
          "data": {
            "text/plain": [
              "<tensorflow.python.keras.callbacks.History at 0x7fb7ec7a1be0>"
            ]
          },
          "metadata": {
            "tags": []
          },
          "execution_count": 47
        }
      ]
    },
    {
      "cell_type": "code",
      "metadata": {
        "id": "fNh6cBd-iDRP",
        "colab_type": "code",
        "outputId": "681cc7db-e50e-444d-dcdb-3939d7c5fdef",
        "colab": {
          "base_uri": "https://localhost:8080/",
          "height": 68
        }
      },
      "source": [
        "val_loss, val_acc = model.evaluate(x_test.values, y_test.values)\n",
        "print(val_loss)\n",
        "print(val_acc)"
      ],
      "execution_count": 0,
      "outputs": [
        {
          "output_type": "stream",
          "text": [
            "19355/19355 [==============================] - 4s 196us/sample - loss: 0.5256 - acc: 0.7808\n",
            "0.5255984838173329\n",
            "0.7808318\n"
          ],
          "name": "stdout"
        }
      ]
    },
    {
      "cell_type": "code",
      "metadata": {
        "id": "VbNg4glri0RI",
        "colab_type": "code",
        "colab": {}
      },
      "source": [
        ""
      ],
      "execution_count": 0,
      "outputs": []
    }
  ]
}